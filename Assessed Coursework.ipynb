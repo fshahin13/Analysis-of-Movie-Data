{
 "cells": [
  {
   "cell_type": "markdown",
   "metadata": {},
   "source": [
    "# Exploratory Data Analysis for Movie Production"
   ]
  },
  {
   "cell_type": "code",
   "execution_count": 1,
   "metadata": {},
   "outputs": [],
   "source": [
    "#Import Movie data\n",
    "myfile='movie_metadata.csv'\n",
    "\n",
    "import numpy as np\n",
    "from matplotlib import pyplot as plt\n",
    "import pandas as pd\n",
    "from pandas import Series, DataFrame\n",
    "import seaborn as sns\n",
    "%matplotlib inline\n",
    "import scipy.stats as stats\n",
    "import pylab\n",
    "\n",
    "df = pd.read_csv(myfile,index_col=None)"
   ]
  },
  {
   "cell_type": "markdown",
   "metadata": {},
   "source": [
    "# Data Wrangling"
   ]
  },
  {
   "cell_type": "markdown",
   "metadata": {},
   "source": [
    "# 1) Null Values"
   ]
  },
  {
   "cell_type": "code",
   "execution_count": 2,
   "metadata": {},
   "outputs": [
    {
     "data": {
      "image/png": "[encoded data removed]",
      "text/plain": [
       "<Figure size 432x288 with 1 Axes>"
      ]
     },
     "metadata": {
      "needs_background": "light"
     },
     "output_type": "display_data"
    }
   ],
   "source": [
    "#Identifying frequency of null values in every category\n",
    "s = sns.heatmap(df.isnull(), yticklabels = False,cbar = False,cmap = 'viridis')"
   ]
  },
  {
   "cell_type": "code",
   "execution_count": 3,
   "metadata": {},
   "outputs": [
    {
     "name": "stdout",
     "output_type": "stream",
     "text": [
      "Number of null values in gross: 884\n",
      "Number of null values in budget: 492\n",
      "\n",
      "\n",
      "Percentage of null values in gross: 17.53%\n",
      "Percentage of null values in budget: 9.76%\n"
     ]
    }
   ],
   "source": [
    "#number of null values in both 'gross' and 'budget'\n",
    "gross_number = df['gross'].isnull().sum()\n",
    "budget_number = df['budget'].isnull().sum()\n",
    "\n",
    "#percentage of values in both 'gross' and 'budget'\n",
    "gross_percent = round(gross_number/len(df['gross'])*100, 2)\n",
    "budget_percent = round(budget_number/len(df['gross'])*100, 2)\n",
    "\n",
    "print('Number of null values in gross: {}'.format(gross_number))\n",
    "print('Number of null values in budget: {}'.format(budget_number))\n",
    "print('\\n')\n",
    "print('Percentage of null values in gross: {}%'.format(gross_percent))\n",
    "print('Percentage of null values in budget: {}%'.format(budget_percent))"
   ]
  },
  {
   "cell_type": "markdown",
   "metadata": {},
   "source": [
    "I have produced a heatmap using Seaborn to display the frequency of null values, highlighted in horizontal yellow lines. From the graph we will be focusing on 'gross' and 'budget' given that these are the variables with most null values in our dataset which can lead to inconclusive results.\n",
    "\n",
    "The values I calculated as the individual proportions of null values for 'gross' and 'budget' categories came to 17.53% and 9.76% respectively. The proportion of 'gross' values are too high and for 'budget' is relatively small, therefore I will delete NaN values and use mean imputation simultaneously, so the data has a balance of variability and sample size making the data more meaningful to draw conclusions from."
   ]
  },
  {
   "cell_type": "markdown",
   "metadata": {},
   "source": [
    "# 2) Mean Imputation and Dropping of Null Values"
   ]
  },
  {
   "cell_type": "code",
   "execution_count": 4,
   "metadata": {},
   "outputs": [
    {
     "data": {
      "text/html": [
       "<div>\n",
       "<style scoped>\n",
       "    .dataframe tbody tr th:only-of-type {\n",
       "        vertical-align: middle;\n",
       "    }\n",
       "\n",
       "    .dataframe tbody tr th {\n",
       "        vertical-align: top;\n",
       "    }\n",
       "\n",
       "    .dataframe thead th {\n",
       "        text-align: right;\n",
       "    }\n",
       "</style>\n",
       "<table border=\"1\" class=\"dataframe\">\n",
       "  <thead>\n",
       "    <tr style=\"text-align: right;\">\n",
       "      <th></th>\n",
       "      <th>color</th>\n",
       "      <th>title_year</th>\n",
       "      <th>duration</th>\n",
       "      <th>genres</th>\n",
       "      <th>gross</th>\n",
       "      <th>clean_budget</th>\n",
       "      <th>Profit</th>\n",
       "      <th>imdb_score</th>\n",
       "      <th>country</th>\n",
       "      <th>movie_facebook_likes</th>\n",
       "    </tr>\n",
       "  </thead>\n",
       "  <tbody>\n",
       "    <tr>\n",
       "      <th>2988</th>\n",
       "      <td>Color</td>\n",
       "      <td>2006.0</td>\n",
       "      <td>110.0</td>\n",
       "      <td>Comedy|Drama|Horror|Sci-Fi</td>\n",
       "      <td>2201412.0</td>\n",
       "      <td>1.221550e+10</td>\n",
       "      <td>-1.221330e+10</td>\n",
       "      <td>7.0</td>\n",
       "      <td>South Korea</td>\n",
       "      <td>7000</td>\n",
       "    </tr>\n",
       "    <tr>\n",
       "      <th>3859</th>\n",
       "      <td>Color</td>\n",
       "      <td>2005.0</td>\n",
       "      <td>112.0</td>\n",
       "      <td>Crime|Drama</td>\n",
       "      <td>211667.0</td>\n",
       "      <td>4.200000e+09</td>\n",
       "      <td>-4.199788e+09</td>\n",
       "      <td>7.7</td>\n",
       "      <td>South Korea</td>\n",
       "      <td>4000</td>\n",
       "    </tr>\n",
       "    <tr>\n",
       "      <th>3005</th>\n",
       "      <td>Color</td>\n",
       "      <td>2005.0</td>\n",
       "      <td>134.0</td>\n",
       "      <td>Drama|Romance|War</td>\n",
       "      <td>195888.0</td>\n",
       "      <td>2.500000e+09</td>\n",
       "      <td>-2.499804e+09</td>\n",
       "      <td>7.1</td>\n",
       "      <td>Hungary</td>\n",
       "      <td>607</td>\n",
       "    </tr>\n",
       "    <tr>\n",
       "      <th>2323</th>\n",
       "      <td>Color</td>\n",
       "      <td>1997.0</td>\n",
       "      <td>134.0</td>\n",
       "      <td>Adventure|Animation|Fantasy</td>\n",
       "      <td>2298191.0</td>\n",
       "      <td>2.400000e+09</td>\n",
       "      <td>-2.397702e+09</td>\n",
       "      <td>8.4</td>\n",
       "      <td>Japan</td>\n",
       "      <td>11000</td>\n",
       "    </tr>\n",
       "    <tr>\n",
       "      <th>2334</th>\n",
       "      <td>Color</td>\n",
       "      <td>2004.0</td>\n",
       "      <td>103.0</td>\n",
       "      <td>Action|Adventure|Animation|Family|Sci-Fi|Thriller</td>\n",
       "      <td>410388.0</td>\n",
       "      <td>2.127520e+09</td>\n",
       "      <td>-2.127110e+09</td>\n",
       "      <td>6.9</td>\n",
       "      <td>Japan</td>\n",
       "      <td>973</td>\n",
       "    </tr>\n",
       "    <tr>\n",
       "      <th>3423</th>\n",
       "      <td>Color</td>\n",
       "      <td>1988.0</td>\n",
       "      <td>124.0</td>\n",
       "      <td>Action|Animation|Sci-Fi</td>\n",
       "      <td>439162.0</td>\n",
       "      <td>1.100000e+09</td>\n",
       "      <td>-1.099561e+09</td>\n",
       "      <td>8.1</td>\n",
       "      <td>Japan</td>\n",
       "      <td>0</td>\n",
       "    </tr>\n",
       "    <tr>\n",
       "      <th>4542</th>\n",
       "      <td>Color</td>\n",
       "      <td>1999.0</td>\n",
       "      <td>99.0</td>\n",
       "      <td>Action|Adventure|Drama|Sci-Fi|Thriller</td>\n",
       "      <td>10037390.0</td>\n",
       "      <td>1.000000e+09</td>\n",
       "      <td>-9.899626e+08</td>\n",
       "      <td>6.0</td>\n",
       "      <td>Japan</td>\n",
       "      <td>339</td>\n",
       "    </tr>\n",
       "    <tr>\n",
       "      <th>3851</th>\n",
       "      <td>Color</td>\n",
       "      <td>1998.0</td>\n",
       "      <td>115.0</td>\n",
       "      <td>Drama|Musical</td>\n",
       "      <td>1687311.0</td>\n",
       "      <td>7.000000e+08</td>\n",
       "      <td>-6.983127e+08</td>\n",
       "      <td>7.2</td>\n",
       "      <td>Spain</td>\n",
       "      <td>539</td>\n",
       "    </tr>\n",
       "    <tr>\n",
       "      <th>3075</th>\n",
       "      <td>Color</td>\n",
       "      <td>2006.0</td>\n",
       "      <td>193.0</td>\n",
       "      <td>Drama</td>\n",
       "      <td>3275443.0</td>\n",
       "      <td>7.000000e+08</td>\n",
       "      <td>-6.967246e+08</td>\n",
       "      <td>6.0</td>\n",
       "      <td>India</td>\n",
       "      <td>659</td>\n",
       "    </tr>\n",
       "    <tr>\n",
       "      <th>3273</th>\n",
       "      <td>Color</td>\n",
       "      <td>2010.0</td>\n",
       "      <td>90.0</td>\n",
       "      <td>Action|Drama|Romance|Thriller</td>\n",
       "      <td>1602466.0</td>\n",
       "      <td>6.000000e+08</td>\n",
       "      <td>-5.983975e+08</td>\n",
       "      <td>6.0</td>\n",
       "      <td>India</td>\n",
       "      <td>0</td>\n",
       "    </tr>\n",
       "    <tr>\n",
       "      <th>1338</th>\n",
       "      <td>Color</td>\n",
       "      <td>2008.0</td>\n",
       "      <td>150.0</td>\n",
       "      <td>Action|Adventure|Drama|History|War</td>\n",
       "      <td>626809.0</td>\n",
       "      <td>5.536320e+08</td>\n",
       "      <td>-5.530052e+08</td>\n",
       "      <td>7.4</td>\n",
       "      <td>China</td>\n",
       "      <td>0</td>\n",
       "    </tr>\n",
       "    <tr>\n",
       "      <th>3311</th>\n",
       "      <td>Color</td>\n",
       "      <td>2001.0</td>\n",
       "      <td>300.0</td>\n",
       "      <td>Action|Adventure|Drama|History|War</td>\n",
       "      <td>454255.0</td>\n",
       "      <td>4.000000e+08</td>\n",
       "      <td>-3.995457e+08</td>\n",
       "      <td>6.6</td>\n",
       "      <td>Thailand</td>\n",
       "      <td>124</td>\n",
       "    </tr>\n",
       "    <tr>\n",
       "      <th>1016</th>\n",
       "      <td>Color</td>\n",
       "      <td>1999.0</td>\n",
       "      <td>158.0</td>\n",
       "      <td>Adventure|Biography|Drama|History|War</td>\n",
       "      <td>14131298.0</td>\n",
       "      <td>3.900000e+08</td>\n",
       "      <td>-3.758687e+08</td>\n",
       "      <td>6.4</td>\n",
       "      <td>France</td>\n",
       "      <td>0</td>\n",
       "    </tr>\n",
       "    <tr>\n",
       "      <th>1</th>\n",
       "      <td>Color</td>\n",
       "      <td>2007.0</td>\n",
       "      <td>169.0</td>\n",
       "      <td>Action|Adventure|Fantasy</td>\n",
       "      <td>309404152.0</td>\n",
       "      <td>3.000000e+08</td>\n",
       "      <td>9.404152e+06</td>\n",
       "      <td>7.1</td>\n",
       "      <td>USA</td>\n",
       "      <td>0</td>\n",
       "    </tr>\n",
       "    <tr>\n",
       "      <th>2740</th>\n",
       "      <td>Color</td>\n",
       "      <td>2008.0</td>\n",
       "      <td>110.0</td>\n",
       "      <td>Action</td>\n",
       "      <td>102055.0</td>\n",
       "      <td>3.000000e+08</td>\n",
       "      <td>-2.998979e+08</td>\n",
       "      <td>6.2</td>\n",
       "      <td>Thailand</td>\n",
       "      <td>0</td>\n",
       "    </tr>\n",
       "  </tbody>\n",
       "</table>\n",
       "</div>"
      ],
      "text/plain": [
       "      color  title_year  duration  \\\n",
       "2988  Color      2006.0     110.0   \n",
       "3859  Color      2005.0     112.0   \n",
       "3005  Color      2005.0     134.0   \n",
       "2323  Color      1997.0     134.0   \n",
       "2334  Color      2004.0     103.0   \n",
       "3423  Color      1988.0     124.0   \n",
       "4542  Color      1999.0      99.0   \n",
       "3851  Color      1998.0     115.0   \n",
       "3075  Color      2006.0     193.0   \n",
       "3273  Color      2010.0      90.0   \n",
       "1338  Color      2008.0     150.0   \n",
       "3311  Color      2001.0     300.0   \n",
       "1016  Color      1999.0     158.0   \n",
       "1     Color      2007.0     169.0   \n",
       "2740  Color      2008.0     110.0   \n",
       "\n",
       "                                                 genres        gross  \\\n",
       "2988                         Comedy|Drama|Horror|Sci-Fi    2201412.0   \n",
       "3859                                        Crime|Drama     211667.0   \n",
       "3005                                  Drama|Romance|War     195888.0   \n",
       "2323                        Adventure|Animation|Fantasy    2298191.0   \n",
       "2334  Action|Adventure|Animation|Family|Sci-Fi|Thriller     410388.0   \n",
       "3423                            Action|Animation|Sci-Fi     439162.0   \n",
       "4542             Action|Adventure|Drama|Sci-Fi|Thriller   10037390.0   \n",
       "3851                                      Drama|Musical    1687311.0   \n",
       "3075                                              Drama    3275443.0   \n",
       "3273                      Action|Drama|Romance|Thriller    1602466.0   \n",
       "1338                 Action|Adventure|Drama|History|War     626809.0   \n",
       "3311                 Action|Adventure|Drama|History|War     454255.0   \n",
       "1016              Adventure|Biography|Drama|History|War   14131298.0   \n",
       "1                              Action|Adventure|Fantasy  309404152.0   \n",
       "2740                                             Action     102055.0   \n",
       "\n",
       "      clean_budget        Profit  imdb_score      country  \\\n",
       "2988  1.221550e+10 -1.221330e+10         7.0  South Korea   \n",
       "3859  4.200000e+09 -4.199788e+09         7.7  South Korea   \n",
       "3005  2.500000e+09 -2.499804e+09         7.1      Hungary   \n",
       "2323  2.400000e+09 -2.397702e+09         8.4        Japan   \n",
       "2334  2.127520e+09 -2.127110e+09         6.9        Japan   \n",
       "3423  1.100000e+09 -1.099561e+09         8.1        Japan   \n",
       "4542  1.000000e+09 -9.899626e+08         6.0        Japan   \n",
       "3851  7.000000e+08 -6.983127e+08         7.2        Spain   \n",
       "3075  7.000000e+08 -6.967246e+08         6.0        India   \n",
       "3273  6.000000e+08 -5.983975e+08         6.0        India   \n",
       "1338  5.536320e+08 -5.530052e+08         7.4        China   \n",
       "3311  4.000000e+08 -3.995457e+08         6.6     Thailand   \n",
       "1016  3.900000e+08 -3.758687e+08         6.4       France   \n",
       "1     3.000000e+08  9.404152e+06         7.1          USA   \n",
       "2740  3.000000e+08 -2.998979e+08         6.2     Thailand   \n",
       "\n",
       "      movie_facebook_likes  \n",
       "2988                  7000  \n",
       "3859                  4000  \n",
       "3005                   607  \n",
       "2323                 11000  \n",
       "2334                   973  \n",
       "3423                     0  \n",
       "4542                   339  \n",
       "3851                   539  \n",
       "3075                   659  \n",
       "3273                     0  \n",
       "1338                     0  \n",
       "3311                   124  \n",
       "1016                     0  \n",
       "1                        0  \n",
       "2740                     0  "
      ]
     },
     "execution_count": 4,
     "metadata": {},
     "output_type": "execute_result"
    }
   ],
   "source": [
    "# Replacing null values\n",
    "df['budget'].mean()\n",
    "df['clean_budget'] = df['budget'].replace(np.nan, df['budget'].mean())\n",
    "df['Profit'] = df['gross'] - df['clean_budget']\n",
    "df.dropna(subset = ['gross'], inplace=True)\n",
    "\n",
    "# Creating new dataframe with cleaned data\n",
    "cleaned_data = df.loc[:,['color','title_year','duration','genres','gross','clean_budget','Profit','imdb_score','country','movie_facebook_likes']]\n",
    "cleaned_data.sort_values('clean_budget',ascending = False).head(15)"
   ]
  },
  {
   "cell_type": "markdown",
   "metadata": {},
   "source": [
    "Given that the number of null values for 'gross' consist of 17.53% of the overall data I decided to remove the values, alternatively I used mean imputation to replace the null values in 'budget'. This reduces my overall sample size from 5043 to 4159 which reduces the power of my analysis and increases the margin for error. In addition, the use of mean imputation keeps the sample size consistent for 'budget' although the variability in the data is reduced so the standard deviations and variance may be underestimated. \n",
    "\n",
    "Furthermore, we can see that the 14 movies with highest budget overall made a significant amount of losses, so a higher budget doesn't necessarily entail a movie will be successful."
   ]
  },
  {
   "cell_type": "markdown",
   "metadata": {},
   "source": [
    "# 3) Budgets < £1.5 million"
   ]
  },
  {
   "cell_type": "code",
   "execution_count": 21,
   "metadata": {},
   "outputs": [
    {
     "data": {
      "text/html": [
       "<div>\n",
       "<style scoped>\n",
       "    .dataframe tbody tr th:only-of-type {\n",
       "        vertical-align: middle;\n",
       "    }\n",
       "\n",
       "    .dataframe tbody tr th {\n",
       "        vertical-align: top;\n",
       "    }\n",
       "\n",
       "    .dataframe thead th {\n",
       "        text-align: right;\n",
       "    }\n",
       "</style>\n",
       "<table border=\"1\" class=\"dataframe\">\n",
       "  <thead>\n",
       "    <tr style=\"text-align: right;\">\n",
       "      <th></th>\n",
       "      <th>color</th>\n",
       "      <th>title_year</th>\n",
       "      <th>duration</th>\n",
       "      <th>genres</th>\n",
       "      <th>gross</th>\n",
       "      <th>clean_budget</th>\n",
       "      <th>Profit</th>\n",
       "      <th>imdb_score</th>\n",
       "      <th>country</th>\n",
       "      <th>movie_facebook_likes</th>\n",
       "    </tr>\n",
       "  </thead>\n",
       "  <tbody>\n",
       "    <tr>\n",
       "      <th>4707</th>\n",
       "      <td>Black and White</td>\n",
       "      <td>1999.0</td>\n",
       "      <td>81.0</td>\n",
       "      <td>Horror</td>\n",
       "      <td>140530114.0</td>\n",
       "      <td>60000.0</td>\n",
       "      <td>140470114.0</td>\n",
       "      <td>6.4</td>\n",
       "      <td>USA</td>\n",
       "      <td>0</td>\n",
       "    </tr>\n",
       "    <tr>\n",
       "      <th>4530</th>\n",
       "      <td>Color</td>\n",
       "      <td>1976.0</td>\n",
       "      <td>145.0</td>\n",
       "      <td>Drama|Sport</td>\n",
       "      <td>117235247.0</td>\n",
       "      <td>960000.0</td>\n",
       "      <td>116275247.0</td>\n",
       "      <td>8.1</td>\n",
       "      <td>USA</td>\n",
       "      <td>0</td>\n",
       "    </tr>\n",
       "    <tr>\n",
       "      <th>4674</th>\n",
       "      <td>Color</td>\n",
       "      <td>1973.0</td>\n",
       "      <td>112.0</td>\n",
       "      <td>Comedy|Drama|Music</td>\n",
       "      <td>115000000.0</td>\n",
       "      <td>777000.0</td>\n",
       "      <td>114223000.0</td>\n",
       "      <td>7.5</td>\n",
       "      <td>USA</td>\n",
       "      <td>0</td>\n",
       "    </tr>\n",
       "    <tr>\n",
       "      <th>4793</th>\n",
       "      <td>Color</td>\n",
       "      <td>2007.0</td>\n",
       "      <td>84.0</td>\n",
       "      <td>Horror</td>\n",
       "      <td>107917283.0</td>\n",
       "      <td>15000.0</td>\n",
       "      <td>107902283.0</td>\n",
       "      <td>6.3</td>\n",
       "      <td>USA</td>\n",
       "      <td>12000</td>\n",
       "    </tr>\n",
       "    <tr>\n",
       "      <th>4485</th>\n",
       "      <td>Color</td>\n",
       "      <td>2004.0</td>\n",
       "      <td>103.0</td>\n",
       "      <td>Horror|Mystery|Thriller</td>\n",
       "      <td>55153403.0</td>\n",
       "      <td>1200000.0</td>\n",
       "      <td>53953403.0</td>\n",
       "      <td>7.7</td>\n",
       "      <td>USA</td>\n",
       "      <td>0</td>\n",
       "    </tr>\n",
       "  </tbody>\n",
       "</table>\n",
       "</div>"
      ],
      "text/plain": [
       "                 color  title_year  duration                   genres  \\\n",
       "4707   Black and White      1999.0      81.0                   Horror   \n",
       "4530             Color      1976.0     145.0              Drama|Sport   \n",
       "4674             Color      1973.0     112.0       Comedy|Drama|Music   \n",
       "4793             Color      2007.0      84.0                   Horror   \n",
       "4485             Color      2004.0     103.0  Horror|Mystery|Thriller   \n",
       "\n",
       "            gross  clean_budget       Profit  imdb_score country  \\\n",
       "4707  140530114.0       60000.0  140470114.0         6.4     USA   \n",
       "4530  117235247.0      960000.0  116275247.0         8.1     USA   \n",
       "4674  115000000.0      777000.0  114223000.0         7.5     USA   \n",
       "4793  107917283.0       15000.0  107902283.0         6.3     USA   \n",
       "4485   55153403.0     1200000.0   53953403.0         7.7     USA   \n",
       "\n",
       "      movie_facebook_likes  \n",
       "4707                     0  \n",
       "4530                     0  \n",
       "4674                     0  \n",
       "4793                 12000  \n",
       "4485                     0  "
      ]
     },
     "execution_count": 21,
     "metadata": {},
     "output_type": "execute_result"
    }
   ],
   "source": [
    "#Selecting budgets less than £1.5 million\n",
    "veryclean = cleaned_data[cleaned_data['clean_budget'] < 1500000]\n",
    "veryclean.sort_values('Profit',ascending = False).head()"
   ]
  },
  {
   "cell_type": "markdown",
   "metadata": {},
   "source": [
    "Consequently, our sample reduces to 255 movies when only focusing on budgets with less than £1.5 million. The table reveals budgets of less than 1.5 million by descending order of profit. The top 15 movies with highest profit seem to have Horror or containing Horror and Thriller genres which seem to be the most popular genres."
   ]
  },
  {
   "cell_type": "markdown",
   "metadata": {},
   "source": [
    "# Normality Check"
   ]
  },
  {
   "cell_type": "markdown",
   "metadata": {},
   "source": [
    "# 1) Shapiro-Wilk Tests"
   ]
  },
  {
   "cell_type": "code",
   "execution_count": 6,
   "metadata": {},
   "outputs": [
    {
     "name": "stdout",
     "output_type": "stream",
     "text": [
      "['Results of test: w and p', ShapiroResult(statistic=0.9295369982719421, pvalue=1.1562739654635834e-09)]\n",
      "\n",
      "\n",
      "['Results of test: w and p', ShapiroResult(statistic=0.971648633480072, pvalue=5.811559094581753e-05)]\n",
      "\n",
      "\n",
      "['Results of test: w and p', ShapiroResult(statistic=0.40132272243499756, pvalue=3.0711538524204816e-28)]\n"
     ]
    }
   ],
   "source": [
    "#shapiro wilk test for budgets less than £1.5 million\n",
    "budg=stats.shapiro(veryclean['clean_budget'])\n",
    "print(['Results of test: w and p',budg])\n",
    "print('\\n')\n",
    "#shapiro wilk test for IMDB Score\n",
    "IMDB=stats.shapiro(veryclean['imdb_score'])\n",
    "print(['Results of test: w and p',IMDB])\n",
    "print('\\n')\n",
    "#shapiro wilk test for profit\n",
    "Prof=stats.shapiro(veryclean['Profit'])\n",
    "print(['Results of test: w and p',Prof])"
   ]
  },
  {
   "cell_type": "markdown",
   "metadata": {},
   "source": [
    "I've set a criterion alpha value to 0.05 to determine whether our findings are significant or not and a null hypothesis of the data not deviating from a normal distribution. The p-values calculated from the Shapiro-Wilk test are < 0.05 so we reject the null hypothesis, that there isn't enough data for the 3 variables to not be normally distributed."
   ]
  },
  {
   "cell_type": "markdown",
   "metadata": {},
   "source": [
    "# 2) Probability Plots"
   ]
  },
  {
   "cell_type": "code",
   "execution_count": 7,
   "metadata": {},
   "outputs": [
    {
     "data": {
      "image/png": "[encoded data removed]",
      "text/plain": [
       "<Figure size 432x288 with 1 Axes>"
      ]
     },
     "metadata": {
      "needs_background": "light"
     },
     "output_type": "display_data"
    },
    {
     "data": {
      "image/png": "[encoded data removed]",
      "text/plain": [
       "<Figure size 432x288 with 1 Axes>"
      ]
     },
     "metadata": {
      "needs_background": "light"
     },
     "output_type": "display_data"
    },
    {
     "data": {
      "image/png": "[encoded data removed]",
      "text/plain": [
       "<Figure size 432x288 with 1 Axes>"
      ]
     },
     "metadata": {
      "needs_background": "light"
     },
     "output_type": "display_data"
    }
   ],
   "source": [
    "#probability plot of budget\n",
    "stats.probplot(veryclean['clean_budget'], dist = \"norm\", plot =pylab)\n",
    "pylab.show()\n",
    "\n",
    "#probability plot of IMDB Score\n",
    "stats.probplot(veryclean['imdb_score'], dist = \"norm\", plot =pylab)\n",
    "pylab.show()\n",
    "\n",
    "#probability plot of profit\n",
    "stats.probplot(veryclean['Profit'], dist = \"norm\", plot =pylab)\n",
    "pylab.show()"
   ]
  },
  {
   "cell_type": "markdown",
   "metadata": {},
   "source": [
    "From the probability plots we can observe that the first plot of budget follows a jagged linear correlation but with many data points not on the normal distribution line (red line) so it isn't normally distributed. On the other hand, the second plot displaying IMDB score shows a fairly normal distribution given that many points are on the red line with only a few points at each end undervalued. Finally, profit doesn't follow a normal distribution because the data points don't follow the general trend of the red line and many points also fail to lie on the line."
   ]
  },
  {
   "cell_type": "markdown",
   "metadata": {},
   "source": [
    "# Data Analysis"
   ]
  },
  {
   "cell_type": "markdown",
   "metadata": {},
   "source": [
    "# 1) Means of all Movies ≥ £1.5 million"
   ]
  },
  {
   "cell_type": "code",
   "execution_count": 8,
   "metadata": {},
   "outputs": [
    {
     "name": "stdout",
     "output_type": "stream",
     "text": [
      "Mean of total gross: £51211894.0\n",
      "Mean of total budget: £47750077.0\n",
      "Average profit made by all movies: £3461817.0\n"
     ]
    }
   ],
   "source": [
    "superclean = cleaned_data[cleaned_data['clean_budget'] >= 1500000]\n",
    "gross_mean1 = round(superclean['gross'].mean(), 0)\n",
    "budget_mean1 = round(superclean['clean_budget'].mean(), 0)\n",
    "profit1 = gross_mean1 - budget_mean1\n",
    "\n",
    "print('Mean of total gross: £{}'.format(gross_mean1))\n",
    "print('Mean of total budget: £{}'.format(budget_mean1))\n",
    "print('Average profit made by all movies: £{}'.format(profit1))"
   ]
  },
  {
   "cell_type": "markdown",
   "metadata": {},
   "source": [
    "# 2) Means of Movies with budget of < £1.5 million"
   ]
  },
  {
   "cell_type": "code",
   "execution_count": 9,
   "metadata": {},
   "outputs": [
    {
     "name": "stdout",
     "output_type": "stream",
     "text": [
      "Mean of total gross: £6466163.0\n",
      "Mean of total budget: £590568.0\n",
      "Average profit made by all movies: £5875595.0\n",
      "\n",
      "\n",
      "Movies with means < £1.5 million made a greater profit by £2413778.0\n"
     ]
    }
   ],
   "source": [
    "gross_mean2 = round(veryclean['gross'].mean(), 0)\n",
    "budget_mean2 = round(veryclean['clean_budget'].mean(), 0)\n",
    "profit2 = gross_mean2 - budget_mean2\n",
    "\n",
    "print('Mean of total gross: £{}'.format(gross_mean2))\n",
    "print('Mean of total budget: £{}'.format(budget_mean2))\n",
    "print('Average profit made by all movies: £{}'.format(profit2))\n",
    "print('\\n')\n",
    "print('Movies with means < £1.5 million made a greater profit by £{}'.format(profit2 - profit1))"
   ]
  },
  {
   "cell_type": "markdown",
   "metadata": {},
   "source": [
    "It is very interesting to notice that even though average movies with budgets greater than or equal to £1.5 million made more gross than movies with budgets less than £1.5 million. The latter ended up making a greater profit of £2413778.0 showing a smaller budget can make more profit. Although there is a very large difference in the sample sizes which may be an influencing factor in the profits."
   ]
  },
  {
   "cell_type": "markdown",
   "metadata": {},
   "source": [
    "# Hypotheses Test : Correlation Analysis"
   ]
  },
  {
   "cell_type": "markdown",
   "metadata": {},
   "source": [
    "Null Hypothesis - H_0: Gross is dependent on IMDB Score and Budget\n",
    "\n",
    "Alternative Hypothesis - H_1: Gross is not dependent on IMDB Score and Budget"
   ]
  },
  {
   "cell_type": "code",
   "execution_count": 10,
   "metadata": {},
   "outputs": [
    {
     "data": {
      "image/png": "[encoded data removed]",
      "text/plain": [
       "<Figure size 432x288 with 1 Axes>"
      ]
     },
     "metadata": {
      "needs_background": "light"
     },
     "output_type": "display_data"
    },
    {
     "name": "stdout",
     "output_type": "stream",
     "text": [
      "Spearman's correlation coefficient(IMDB Score & Gross):\n",
      "SpearmanrResult(correlation=0.30141618775949, pvalue=9.385111458813164e-07)\n"
     ]
    },
    {
     "data": {
      "image/png": "[encoded data removed]",
      "text/plain": [
       "<Figure size 432x288 with 1 Axes>"
      ]
     },
     "metadata": {
      "needs_background": "light"
     },
     "output_type": "display_data"
    },
    {
     "name": "stdout",
     "output_type": "stream",
     "text": [
      "Spearman's correlation coefficient(Budget & Gross):\n",
      "SpearmanrResult(correlation=0.05622119340007847, pvalue=0.3712806916642786)\n"
     ]
    }
   ],
   "source": [
    "w = veryclean['imdb_score']\n",
    "s = veryclean['clean_budget']\n",
    "z = veryclean['gross']\n",
    "\n",
    "t = np.log(w, dtype = 'float64')\n",
    "r = np.log(s, dtype = 'float64')\n",
    "q = np.log(z, dtype = 'float64')\n",
    "\n",
    "#IMDB Score and Gross\n",
    "plt.scatter(t,q, s = 10)\n",
    "plt.xlabel('IMDB Score')\n",
    "plt.ylabel('Gross')\n",
    "plt.show()\n",
    "\n",
    "#Spearmens Rank\n",
    "spearmanr1=stats.spearmanr(w,z)\n",
    "print(\"Spearman's correlation coefficient(IMDB Score & Gross):\")\n",
    "print(spearmanr1)\n",
    "\n",
    "#Budget and Profit\n",
    "plt.scatter(r,q, s = 10)\n",
    "plt.xlabel('Budget')\n",
    "plt.ylabel('Gross')\n",
    "plt.show()\n",
    "\n",
    "#Spearmens Rank\n",
    "spearmanr2=stats.spearmanr(s,z)\n",
    "print(\"Spearman's correlation coefficient(Budget & Gross):\")\n",
    "print(spearmanr2)"
   ]
  },
  {
   "cell_type": "markdown",
   "metadata": {},
   "source": [
    "I scaled down the axis using a logarithmic scale. From the scatter graphs and the correlation coefficients being significantly low, thus there is no linear correlation between gross with budgets and IMDB score. Furthermore, we can see that many of the points in the Gross/Budget graph tend to cluster around a higher budget showing that the upper quartile is close to the max value. This shows that movies with approximately the same budget expenditure have made a gross in a wide interval.\n",
    "\n",
    "The criterion alpha in this scenario is 0.05 and both p-values are far less than 0.05 so the null hypothesis is rejected, and alternative is accepted so gross is not dependent on either IMDB Score or Budget."
   ]
  },
  {
   "cell_type": "markdown",
   "metadata": {},
   "source": [
    "# Box Plots"
   ]
  },
  {
   "cell_type": "markdown",
   "metadata": {},
   "source": [
    "# 1) Movie Colour"
   ]
  },
  {
   "cell_type": "code",
   "execution_count": 11,
   "metadata": {},
   "outputs": [
    {
     "name": "stdout",
     "output_type": "stream",
     "text": [
      "Number of films made in Color: 232\n",
      "Number of films made in Black and White: 23\n"
     ]
    },
    {
     "data": {
      "image/png": "[encoded data removed]",
      "text/plain": [
       "<Figure size 432x288 with 1 Axes>"
      ]
     },
     "metadata": {
      "needs_background": "light"
     },
     "output_type": "display_data"
    }
   ],
   "source": [
    "bs = sns.boxplot(x=np.log(veryclean['gross']), y=veryclean['color'],data=veryclean, linewidth=1.5)\n",
    "bs.xaxis.grid(True)\n",
    "\n",
    "colour = (veryclean['color']=='Color').sum()\n",
    "no_colour = 255 - colour\n",
    "\n",
    "print('Number of films made in Color: {}'.format(colour))\n",
    "print('Number of films made in Black and White: {}'.format(no_colour))"
   ]
  },
  {
   "cell_type": "markdown",
   "metadata": {},
   "source": [
    "Another area to consider maybe is the display colour of the movie. From the box plots we can see that movies in Black and White have a higher median and much smaller range than movies in colour but there is a significant difference in their sample sizes so this may not be reliable."
   ]
  },
  {
   "cell_type": "markdown",
   "metadata": {},
   "source": [
    "# 2) Country"
   ]
  },
  {
   "cell_type": "code",
   "execution_count": 12,
   "metadata": {},
   "outputs": [
    {
     "data": {
      "text/plain": [
       "<matplotlib.axes._subplots.AxesSubplot at 0x7fd796c0c730>"
      ]
     },
     "execution_count": 12,
     "metadata": {},
     "output_type": "execute_result"
    },
    {
     "data": {
      "image/png": "[encoded data removed]",
      "text/plain": [
       "<Figure size 576x432 with 1 Axes>"
      ]
     },
     "metadata": {
      "needs_background": "light"
     },
     "output_type": "display_data"
    }
   ],
   "source": [
    "#Use Profits > 0\n",
    "Positive_Profits = veryclean[veryclean['Profit'] > 0]\n",
    "\n",
    "#Create new dataframe with log(Profit)\n",
    "df10 = Positive_Profits.drop(columns = ['Profit'])\n",
    "Prof_logs = np.log(Positive_Profits['Profit'], dtype = 'float64')\n",
    "df10['Profits_log'] = Prof_logs\n",
    "\n",
    "#Comparing country profits\n",
    "country_Profits=df10.loc[:,['country','Profits_log']]\n",
    "\n",
    "counts=country_Profits.groupby('country').count().reset_index('country')\n",
    "\n",
    "#Use countries that have frequencies > 1\n",
    "n=1\n",
    "bigcounts=counts[counts.Profits_log>n]['country'] \n",
    "bigcountries_df = country_Profits[country_Profits.country.isin(bigcounts)] \n",
    "bigcountries_df.boxplot(by='country',figsize=(8,6))"
   ]
  },
  {
   "cell_type": "markdown",
   "metadata": {},
   "source": [
    "Comparing profits of various countries reveals that the USA has the largest range. Italy has the smallest range of profits but the highest median of all countries where as UK and Canada have very symmetric box plots suggesting normal distribution."
   ]
  },
  {
   "cell_type": "markdown",
   "metadata": {},
   "source": [
    "# Genre & Profit Bar chart"
   ]
  },
  {
   "cell_type": "code",
   "execution_count": 13,
   "metadata": {},
   "outputs": [
    {
     "data": {
      "image/png": "[encoded data removed]",
      "text/plain": [
       "<Figure size 720x648 with 1 Axes>"
      ]
     },
     "metadata": {
      "needs_background": "light"
     },
     "output_type": "display_data"
    }
   ],
   "source": [
    "#Split the movies with multiple genres\n",
    "s = veryclean['genres'].str.split('|').apply(Series, 1).stack()\n",
    "s.index = s.index.droplevel(-1)\n",
    "s.name = 'genres'\n",
    "del veryclean['genres']\n",
    "veryclean_split_genres = veryclean.join(s)\n",
    "\n",
    "#Group the separate genres\n",
    "veryclean_genre_mean = veryclean_split_genres.groupby(['genres']).mean()\n",
    "\n",
    "#Sort in ascending order of profit made\n",
    "veryclean_genre_mean.sort_values('Profit', ascending=True, inplace = True )\n",
    "veryclean_genre_mean['Profit'].plot.barh(stacked=False, title = 'Profit by Genre (£)',color='DarkBlue', figsize=(10, 9));"
   ]
  },
  {
   "cell_type": "markdown",
   "metadata": {},
   "source": [
    "I separated the movies with multiple genres for each movie into single genres, then grouped the mean profits made by each genre in ascending order. From the bar chart we can see that horror does made the most profit but with mystery sequentially afterward instead of Thriller as I speculated earlier in the report. The range of the profits differ significantly as the War genre made very little profit."
   ]
  },
  {
   "cell_type": "markdown",
   "metadata": {},
   "source": [
    "# Summary"
   ]
  },
  {
   "cell_type": "markdown",
   "metadata": {},
   "source": [
    "I explored the data in the movie data set to discover movies with the highest profits, given a budget of less than £1.5 million. After identifying and filtering out null values in the data, I tested to see if my variables are normally distributed using statistical methods, so I can understand where the values lie around the mean. Then I used correlation analysis to see if gross had any linear relationship to IMDB Score or Budget. My investigation led me to discover there is no linear relationship with the variables and are independent of each other.\n",
    "\n",
    "I then produced box plots comparing color and gross where I found that Black and White movies had a higher median than movies in colour. The Black and White shows characteristics of a negative skew as the median is closer to the upper quartile whereas the color box plot is fairly symmetric.\n",
    "\n",
    "My analysis has shown me that the projected movie with most success with a budget less than £1.5 million has a Horror genre released in Italy as horror genre made the most profit out of all profits, also Italy has fairly consistent profit range. Finally, the movie should be made in black and white for maximum profit. However, my data is likely to have been influenced by the sample size of many discrete variables I have used so this is something to consider and the ideal movie I described my not be the best suggestion."
   ]
  },
  {
   "cell_type": "code",
   "execution_count": 14,
   "metadata": {},
   "outputs": [
    {
     "name": "stdout",
     "output_type": "stream",
     "text": [
      "1062 Words in notebooks' markdown\n",
      "85 Words in notebooks' heading\n",
      "928 Words in notebooks' code\n"
     ]
    },
    {
     "name": "stderr",
     "output_type": "stream",
     "text": [
      "/Users/faheemshahin/opt/anaconda3/lib/python3.8/site-packages/nbformat/current.py:15: UserWarning: nbformat.current is deprecated.\n",
      "\n",
      "- use nbformat for read/write/validate public API\n",
      "- use nbformat.vX directly to composing notebooks of a particular version\n",
      "\n",
      "  warnings.warn(\"\"\"nbformat.current is deprecated.\n"
     ]
    }
   ],
   "source": [
    "import io\n",
    "import os\n",
    "from nbformat import current\n",
    "\n",
    "total_markdown = 0\n",
    "total_heading = 0\n",
    "total_code = 0\n",
    "\n",
    "for root, dirs, files in os.walk(\".\"):\n",
    "    for file in files:\n",
    "        if file.endswith(\".ipynb\") and not file.endswith(\"checkpoint.ipynb\") :\n",
    "            #print(os.path.join(root, file))\n",
    "            with io.open(os.path.join(root, file), 'r', encoding='utf-8') as f:\n",
    "                nb = current.read(f, 'json')\n",
    "\n",
    "            word_count_markdown = 0\n",
    "            word_count_heading = 0\n",
    "            word_count_code = 0\n",
    "            for cell in nb.worksheets[0].cells:\n",
    "                if cell.cell_type == \"markdown\":\n",
    "                    word_count_markdown += len(cell['source'].replace('#', '').lstrip().split(' '))\n",
    "                elif cell.cell_type == \"heading\":\n",
    "                    word_count_heading += len(cell['source'].replace('#', '').lstrip().split(' '))\n",
    "                elif cell.cell_type == \"code\":\n",
    "                    word_count_code += len(cell['input'].replace('#', '').lstrip().split(' '))\n",
    "            total_markdown += word_count_markdown\n",
    "            total_heading += word_count_heading\n",
    "            total_code += word_count_code\n",
    "\n",
    "print(\"{} Words in notebooks' markdown\" .format(total_markdown))\n",
    "print(\"{} Words in notebooks' heading\" .format(total_heading))\n",
    "print(\"{} Words in notebooks' code\" .format(total_code))"
   ]
  },
  {
   "cell_type": "code",
   "execution_count": null,
   "metadata": {},
   "outputs": [],
   "source": []
  }
 ],
 "metadata": {
  "kernelspec": {
   "display_name": "Python 3",
   "language": "python",
   "name": "python3"
  },
  "language_info": {
   "codemirror_mode": {
    "name": "ipython",
    "version": 3
   },
   "file_extension": ".py",
   "mimetype": "text/x-python",
   "name": "python",
   "nbconvert_exporter": "python",
   "pygments_lexer": "ipython3",
   "version": "3.8.3"
  }
 },
 "nbformat": 4,
 "nbformat_minor": 4
}
